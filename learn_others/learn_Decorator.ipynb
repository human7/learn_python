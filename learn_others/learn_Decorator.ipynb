{
 "cells": [
  {
   "cell_type": "markdown",
   "metadata": {},
   "source": [
    "[理解学习Python装饰器(Decorator)](https://www.jianshu.com/p/ee82b941772a)\n",
    "\n",
    "---\n",
    "\n",
    "Python装饰器看起来类似Java中的注解，然鹅和注解并不相同，不过同样能够实现面向切面编程。\n",
    "\n",
    "想要理解Python中的装饰器，不得不先理解闭包（closure）这一概念。\n",
    "\n",
    "# 闭包\n",
    "\n",
    "\n",
    "看看维基百科中的解释：\n",
    "\n",
    "> 在计算机科学中，闭包（英语：Closure），又称词法闭包（Lexical Closure）或函数闭包（function closures），是引用了自由变量的函数。这个被引用的自由变量将和这个函数一同存在，即使已经离开了创造它的环境也不例外。\n",
    "\n"
   ]
  },
  {
   "cell_type": "code",
   "execution_count": 3,
   "metadata": {},
   "outputs": [
    {
     "name": "stdout",
     "output_type": "stream",
     "text": [
      "嵌套函数调用:  外围函数变量\n"
     ]
    }
   ],
   "source": [
    "# print_msg是外围函数\n",
    "def print_msg():\n",
    "    msg = \"外围函数变量\"\n",
    "\n",
    "    # printer是嵌套函数\n",
    "    def printer():\n",
    "        print('嵌套函数调用: ',msg)\n",
    "    \n",
    "    # 返回内部函数\n",
    "    return printer\n",
    "\n",
    "\n",
    "closure = print_msg()  # 这里获得的就是一个闭包\n",
    "\n",
    "closure()  # 输出 \"嵌套函数调用:  外围函数变量\"\n"
   ]
  },
  {
   "cell_type": "markdown",
   "metadata": {},
   "source": [
    "msg是一个局部变量，在print_msg函数执行之后应该就不会存在了。但是嵌套函数引用了这个变量，将这个局部变量封闭在了嵌套函数中，这样就形成了一个闭包。\n",
    "\n",
    "结合这个例子再看维基百科的解释，就清晰明了多了。闭包就是引用了自有变量的函数，这个函数保存了执行的上下文，可以脱离原本的作用域独立存在。\n",
    "\n",
    "下面来看看Python中的装饰器。\n",
    "\n",
    "# 装饰器Decorator\n",
    "\n",
    "## 普通装饰器\n",
    "一个普通的装饰器一般是这样："
   ]
  },
  {
   "cell_type": "code",
   "execution_count": 11,
   "metadata": {},
   "outputs": [],
   "source": [
    "import functools\n",
    "\n",
    "\n",
    "def log(func):\n",
    "    print('>>>>>>>>>>>>进入log函数>>>>>>>>>>>>')\n",
    "    @functools.wraps(func)\n",
    "    def wrapper(*args, **kwargs):\n",
    "        print('==========进入wrapper函数==========')\n",
    "        print('调用 %s():' % func.__name__)\n",
    "        print('参数 = {}'.format(*args))\n",
    "        print('==========退出wrapper函数==========')\n",
    "        return func(*args, **kwargs)\n",
    "    print('>>>>>>>>>>>>退出log函数>>>>>>>>>>>>')\n",
    "    return wrapper\n"
   ]
  },
  {
   "cell_type": "markdown",
   "metadata": {},
   "source": [
    "这样就定义了一个打印出方法名及其参数的装饰器。\n",
    "\n",
    "调用之："
   ]
  },
  {
   "cell_type": "code",
   "execution_count": 20,
   "metadata": {},
   "outputs": [
    {
     "name": "stdout",
     "output_type": "stream",
     "text": [
      ">>>>>>>>>>>>进入log函数>>>>>>>>>>>>\n",
      ">>>>>>>>>>>>退出log函数>>>>>>>>>>>>\n",
      "\n",
      "测试1：\n",
      "\n",
      "==========进入wrapper函数==========\n",
      "调用 test():\n",
      "参数 = abc123\n",
      "==========退出wrapper函数==========\n",
      "----------进入Test函数----------\n",
      "test 的参数是: abc123\n",
      "----------退出Test函数----------\n",
      "\n",
      "测试2：\n",
      "\n",
      "----------进入kkk函数----------\n",
      "kkk 的参数是: 456\n",
      "----------退出kkk函数----------\n"
     ]
    }
   ],
   "source": [
    "@log\n",
    "def test(p):\n",
    "    print('----------进入Test函数----------')\n",
    "    print(test.__name__ + \" 的参数是: \" + p)\n",
    "    print('----------退出Test函数----------')\n",
    "\n",
    "def kkk(p):\n",
    "    print('----------进入kkk函数----------')\n",
    "    print(kkk.__name__ + \" 的参数是: \" + p)\n",
    "    print('----------退出kkk函数----------')\n",
    "    \n",
    "\n",
    "print('\\n测试1：\\n')\n",
    "    \n",
    "test(\"abc123\")  # 测试装饰器\n",
    "\n",
    "print('\\n测试2：\\n')\n",
    "\n",
    "kkk('456')  # 测试一般函数"
   ]
  },
  {
   "cell_type": "markdown",
   "metadata": {},
   "source": [
    "### 对比直接函数调用\n",
    "\n",
    "装饰器在使用时，用了`@`语法，让人有些困扰。\n",
    "\n",
    "其实，**装饰器只是个方法**，与下面的调用方式没有区别："
   ]
  },
  {
   "cell_type": "code",
   "execution_count": 24,
   "metadata": {},
   "outputs": [
    {
     "name": "stdout",
     "output_type": "stream",
     "text": [
      "Step.1\n",
      ">>>>>>>>>>>>进入log函数>>>>>>>>>>>>\n",
      ">>>>>>>>>>>>退出log函数>>>>>>>>>>>>\n",
      "Step.2\n",
      "==========进入wrapper函数==========\n",
      "调用 test():\n",
      "参数 = abc123456\n",
      "==========退出wrapper函数==========\n",
      "----------进入Test函数----------\n",
      "test 的参数是: abc123456\n",
      "----------退出Test函数----------\n"
     ]
    }
   ],
   "source": [
    "def log(func):\n",
    "    print('>>>>>>>>>>>>进入log函数>>>>>>>>>>>>')\n",
    "    @functools.wraps(func)\n",
    "    def wrapper(*args, **kwargs):\n",
    "        print('==========进入wrapper函数==========')\n",
    "        print('调用 %s():' % func.__name__)\n",
    "        print('参数 = {}'.format(*args))\n",
    "        print('==========退出wrapper函数==========')\n",
    "        return func(*args, **kwargs)\n",
    "    print('>>>>>>>>>>>>退出log函数>>>>>>>>>>>>')\n",
    "    return wrapper\n",
    "\n",
    "def test(p):\n",
    "    print('----------进入Test函数----------')\n",
    "    print(test.__name__ + \" 的参数是: \" + p)\n",
    "    print('----------退出Test函数----------')\n",
    "    \n",
    "\n",
    "print(\"Step.1\")\n",
    "wrapper = log(test)\n",
    "print(\"Step.2\")\n",
    "wrapper(\"abc123456\")"
   ]
  },
  {
   "cell_type": "markdown",
   "metadata": {},
   "source": [
    "`@语法`只是将函数传入装饰器函数，并无神奇之处。\n",
    "\n",
    "值得注意的是`@functools.wraps(func)`，这是`python提供的装饰器`。它能把原函数的`元信息`拷贝到`装饰器里面的 func 函数中`。函数的元信息包括`docstring`、`name`、`参数列表`等等。\n",
    "\n",
    "可以尝试去除`@functools.wraps(func)`，你会发现`test.__name__`的输出变成了`wrapper`。(并木有发生变化？！)"
   ]
  },
  {
   "cell_type": "code",
   "execution_count": 1,
   "metadata": {},
   "outputs": [
    {
     "name": "stdout",
     "output_type": "stream",
     "text": [
      "Step.1\n",
      ">>>>>>>>>>>>进入log函数>>>>>>>>>>>>\n",
      ">>>>>>>>>>>>退出log函数>>>>>>>>>>>>\n",
      "Step.2\n",
      "==========进入wrapper函数==========\n",
      "调用 test():\n",
      "参数 = abc123456\n",
      "==========退出wrapper函数==========\n",
      "----------进入Test函数----------\n",
      "test 的参数是: abc123456\n",
      "----------退出Test函数----------\n"
     ]
    }
   ],
   "source": [
    "import functools\n",
    "\n",
    "def log(func):\n",
    "    print('>>>>>>>>>>>>进入log函数>>>>>>>>>>>>')\n",
    "    #@functools.wraps(func)\n",
    "    def wrapper(*args, **kwargs):\n",
    "        print('==========进入wrapper函数==========')\n",
    "        print('调用 %s():' % func.__name__)\n",
    "        print('参数 = {}'.format(*args))\n",
    "        print('==========退出wrapper函数==========')\n",
    "        return func(*args, **kwargs)\n",
    "    print('>>>>>>>>>>>>退出log函数>>>>>>>>>>>>')\n",
    "    return wrapper\n",
    "\n",
    "def test(p):\n",
    "    print('----------进入Test函数----------')\n",
    "    print(test.__name__ + \" 的参数是: \" + p)\n",
    "    print('----------退出Test函数----------')\n",
    "    \n",
    "\n",
    "print(\"Step.1\")\n",
    "wrapper = log(test)\n",
    "print(\"Step.2\")\n",
    "wrapper(\"abc123456\")"
   ]
  },
  {
   "cell_type": "markdown",
   "metadata": {},
   "source": [
    "## 带参数的装饰器\n",
    "\n",
    "装饰器允许传入参数，一个携带了参数的装饰器将有三层函数，如下所示：\n",
    "\n"
   ]
  },
  {
   "cell_type": "code",
   "execution_count": 8,
   "metadata": {},
   "outputs": [
    {
     "name": "stdout",
     "output_type": "stream",
     "text": [
      ">>>>>>>>>>>>进入log函数>>>>>>>>>>>>\n",
      ">>>>>>>>>>>>退出log函数>>>>>>>>>>>>\n",
      "----------进入decorator函数----------\n",
      "----------退出decorator函数----------\n",
      "Step.1\n",
      "==========进入wrapper函数==========\n",
      "call test_with_param():\n",
      "args = 1234\n",
      "log_param = log的参数\n",
      "==========退出wrapper函数==========\n",
      "::::::::::进入test函数::::::::::\n",
      "函数名字 :  test_with_param\n",
      "参数     :  1234\n",
      "::::::::::退出test函数::::::::::\n",
      "Step.2\n"
     ]
    }
   ],
   "source": [
    "import functools\n",
    "\n",
    "def log_with_param(text):\n",
    "    print('>>>>>>>>>>>>进入log函数>>>>>>>>>>>>')\n",
    "    def decorator(func):\n",
    "        print('----------进入decorator函数----------')\n",
    "        @functools.wraps(func)\n",
    "        def wrapper(*args, **kwargs):\n",
    "            print('==========进入wrapper函数==========')\n",
    "            print('call %s():' % func.__name__)\n",
    "            print('args = {}'.format(*args))\n",
    "            print('log_param = {}'.format(text))\n",
    "            print('==========退出wrapper函数==========')\n",
    "            return func(*args, **kwargs)\n",
    "        print('----------退出decorator函数----------')\n",
    "        return wrapper\n",
    "    \n",
    "    print('>>>>>>>>>>>>退出log函数>>>>>>>>>>>>')\n",
    "    return decorator\n",
    "    \n",
    "@log_with_param(\"log的参数\")\n",
    "def test_with_param(p):\n",
    "    print('::::::::::进入test函数::::::::::')\n",
    "    print('函数名字 : ',test_with_param.__name__)\n",
    "    print('参数     : ', p)\n",
    "    print('::::::::::退出test函数::::::::::')\n",
    "\n",
    "print('Step.1')\n",
    "test_with_param(\"1234\")\n",
    "print('Step.2')"
   ]
  },
  {
   "cell_type": "markdown",
   "metadata": {},
   "source": [
    "### 对比直接函数调用\n",
    "看到这个代码是不是又有些疑问，内层的`decorator函数`的参数`func`是怎么传进去的？和上面一般的装饰器不大一样啊。\n",
    "\n",
    "其实道理是一样的，将其`@`语法去除，恢复函数调用的形式一看就明白了："
   ]
  },
  {
   "cell_type": "code",
   "execution_count": 9,
   "metadata": {},
   "outputs": [
    {
     "name": "stdout",
     "output_type": "stream",
     "text": [
      "Step.1\n",
      ">>>>>>>>>>>>进入log函数>>>>>>>>>>>>\n",
      ">>>>>>>>>>>>退出log函数>>>>>>>>>>>>\n",
      "Step.2\n",
      "----------进入decorator函数----------\n",
      "----------退出decorator函数----------\n",
      "Step.3\n",
      "==========进入wrapper函数==========\n",
      "call test_with_param():\n",
      "args = 1234\n",
      "log_param = log的参数\n",
      "==========退出wrapper函数==========\n",
      "::::::::::进入test函数::::::::::\n",
      "函数名字 :  test_with_param\n",
      "参数     :  1234\n",
      "::::::::::退出test函数::::::::::\n",
      "Step.4\n"
     ]
    }
   ],
   "source": [
    "def log_with_param(text):\n",
    "    print('>>>>>>>>>>>>进入log函数>>>>>>>>>>>>')\n",
    "    def decorator(func):\n",
    "        print('----------进入decorator函数----------')\n",
    "        @functools.wraps(func)\n",
    "        def wrapper(*args, **kwargs):\n",
    "            print('==========进入wrapper函数==========')\n",
    "            print('call %s():' % func.__name__)\n",
    "            print('args = {}'.format(*args))\n",
    "            print('log_param = {}'.format(text))\n",
    "            print('==========退出wrapper函数==========')\n",
    "            return func(*args, **kwargs)\n",
    "        print('----------退出decorator函数----------')\n",
    "        return wrapper\n",
    "    \n",
    "    print('>>>>>>>>>>>>退出log函数>>>>>>>>>>>>')\n",
    "    return decorator\n",
    "    \n",
    "#@log_with_param(\"log的参数\")  # 这里注释了\n",
    "def test_with_param(p):\n",
    "    print('::::::::::进入test函数::::::::::')\n",
    "    print('函数名字 : ',test_with_param.__name__)\n",
    "    print('参数     : ', p)\n",
    "    print('::::::::::退出test函数::::::::::')\n",
    "\n",
    "\n",
    "\n",
    "print('Step.1')\n",
    "# 传入装饰器的参数，并接收返回的decorator函数\n",
    "decorator = log_with_param(\"log的参数\")\n",
    "\n",
    "print('Step.2')\n",
    "# 传入test_with_param函数\n",
    "wrapper = decorator(test_with_param)\n",
    "\n",
    "print('Step.3')\n",
    "# 调用装饰器函数\n",
    "wrapper(\"1234\")\n",
    "print('Step.4')"
   ]
  },
  {
   "cell_type": "markdown",
   "metadata": {},
   "source": [
    "---\n",
    "\n",
    "至此，装饰器这个有点费解的特性也没什么神秘了。\n",
    "\n",
    "装饰器这一语法体现了Python中**函数是第一公民**，函数是对象、是变量，可以作为参数、可以是返回值，非常的灵活与强大。\n",
    "\n",
    "Python中引入了很多函数式编程的特性，需要好好学习与体会。"
   ]
  },
  {
   "cell_type": "code",
   "execution_count": null,
   "metadata": {},
   "outputs": [],
   "source": []
  }
 ],
 "metadata": {
  "kernelspec": {
   "display_name": "Python 3",
   "language": "python",
   "name": "python3"
  },
  "language_info": {
   "codemirror_mode": {
    "name": "ipython",
    "version": 3
   },
   "file_extension": ".py",
   "mimetype": "text/x-python",
   "name": "python",
   "nbconvert_exporter": "python",
   "pygments_lexer": "ipython3",
   "version": "3.7.4"
  },
  "toc": {
   "base_numbering": 1,
   "nav_menu": {},
   "number_sections": true,
   "sideBar": true,
   "skip_h1_title": false,
   "title_cell": "Table of Contents",
   "title_sidebar": "Contents",
   "toc_cell": false,
   "toc_position": {
    "height": "calc(100% - 180px)",
    "left": "10px",
    "top": "150px",
    "width": "384px"
   },
   "toc_section_display": true,
   "toc_window_display": true
  }
 },
 "nbformat": 4,
 "nbformat_minor": 2
}
