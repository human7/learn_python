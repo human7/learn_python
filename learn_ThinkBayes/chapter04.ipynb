{
 "cells": [
  {
   "cell_type": "markdown",
   "metadata": {},
   "source": [
    "# 欧元问题\n",
    "\n"
   ]
  },
  {
   "cell_type": "code",
   "execution_count": 6,
   "metadata": {},
   "outputs": [],
   "source": [
    "%matplotlib inline\n",
    "from IPython.core.pylabtools import figsize\n",
    "import matplotlib.pyplot as plt\n",
    "\n",
    "from codeLib.thinkbayes import Suite\n",
    "from codeLib import thinkbayes"
   ]
  },
  {
   "cell_type": "markdown",
   "metadata": {},
   "source": [
    "## class Euro"
   ]
  },
  {
   "cell_type": "code",
   "execution_count": 26,
   "metadata": {},
   "outputs": [],
   "source": [
    "class Euro(Suite):\n",
    "    \"\"\"Represents hypotheses about the probability of heads.\"\"\"\n",
    "\n",
    "    def Likelihood(self, data, hypo):\n",
    "        \"\"\"Computes the likelihood of the data under the hypothesis.\n",
    "\n",
    "        hypo: integer value of x, the probability of heads (0-100)\n",
    "        data: string 'H' or 'T'\n",
    "        \"\"\"\n",
    "        x = hypo / 100.0\n",
    "        if data == 'H':\n",
    "            return x\n",
    "        else:\n",
    "            return 1-x\n",
    "        \n",
    "    def getHypos_Probability(self):\n",
    "        \"\"\"\n",
    "        author       : Human7\n",
    "        description  : 将假设和对应的概率转换成列表，为了好画图\n",
    "        \"\"\"\n",
    "        li_Hypos = []  # 假设\n",
    "        li_Pro   = []  # 概率\n",
    "        for hypo, pro in self.Items():\n",
    "            li_Hypos.append(hypo)\n",
    "            li_Pro.append(pro)\n",
    "        \n",
    "        return li_Hypos,li_Pro\n",
    "    \n",
    "    \n",
    "    def findMaxPro(self):\n",
    "        \"\"\"\n",
    "        author      : Human7\n",
    "        description : 寻找概率最大的假设，及其概率\n",
    "        \"\"\"\n",
    "        proMax = 0\n",
    "        keyMax = None\n",
    "        for key, pro in self.Items():\n",
    "            if pro > proMax:\n",
    "                proMax = pro\n",
    "                keyMax = key\n",
    "        \n",
    "        return keyMax, proMax\n",
    "    "
   ]
  },
  {
   "cell_type": "markdown",
   "metadata": {},
   "source": [
    "## 相关重要函数"
   ]
  },
  {
   "cell_type": "code",
   "execution_count": 16,
   "metadata": {},
   "outputs": [],
   "source": [
    "def RunUpdate(suite, heads=140, tails=110):\n",
    "    \"\"\"Updates the Suite with the given number of heads and tails.\n",
    "\n",
    "    suite: Suite object\n",
    "    heads: int\n",
    "    tails: int\n",
    "    \"\"\"\n",
    "    dataset = 'H' * heads + 'T' * tails\n",
    "    \n",
    "    for data in dataset:\n",
    "        suite.Update(data)"
   ]
  },
  {
   "cell_type": "code",
   "execution_count": 17,
   "metadata": {},
   "outputs": [],
   "source": [
    "def Summarize(suite):\n",
    "    \"\"\"Prints summary statistics for the suite.\"\"\"\n",
    "    print(suite.Prob(50))\n",
    "\n",
    "    print( 'MLE', suite.MaximumLikelihood())\n",
    "\n",
    "    print( 'Mean', suite.Mean())\n",
    "    print( 'Median', thinkbayes.Percentile(suite, 50) )\n",
    "\n",
    "    print( '5th %ile', thinkbayes.Percentile(suite, 5) )\n",
    "    print( '95th %ile', thinkbayes.Percentile(suite, 95) )\n",
    "\n",
    "    print( 'CI', thinkbayes.CredibleInterval(suite, 90) )"
   ]
  },
  {
   "cell_type": "code",
   "execution_count": 30,
   "metadata": {},
   "outputs": [],
   "source": [
    "def Plot1(suite, name=None, xlabel='x', ylabel='Probability'):\n",
    "    \"\"\"画1副图\"\"\"    \n",
    "    hypos, proba = suite.getHypos_Probability()\n",
    "    \n",
    "    if name is None:\n",
    "        name=suite.name\n",
    "    \n",
    "    color_s     = [ 'cyan','red','green','black','blue','magenta']  # 颜色\n",
    "    linestyle_s = [ '-',  # solid line style\n",
    "                '--', # dashed line style\n",
    "                '-.', # dash-dot line style\n",
    "                ':' ]  # dotted line style\n",
    "\n",
    "    marker_s    = [ '.', ',', 'o','v','^', '<', '>','1','2','3','4','s','p','*']  # 标记\n",
    "    \n",
    "    figsize(10, 7)\n",
    "    fig, ax1 = plt.subplots()\n",
    "    ax1.plot( hypos, proba, color=color_s[1],linestyle=linestyle_s[0] )   \n",
    "    ax1.set_xlabel(xlabel)  # x轴\n",
    "    ax1.set_ylabel(ylabel)  # y轴\n",
    "    ax1.set_title(name)\n",
    "    ax1.legend([name])\n",
    "    fig.tight_layout()  # 保证图像被完整显示"
   ]
  },
  {
   "cell_type": "code",
   "execution_count": 52,
   "metadata": {},
   "outputs": [],
   "source": [
    "def Plot_s(suite_s, legend_s=None, name=None, xlabel='x', ylabel='Probability'):\n",
    "    \"\"\"画2副图\"\"\"\n",
    "    \n",
    "    if type(suite_s) is not type([]):\n",
    "        print('\\n----------------------------')\n",
    "        print(\"Plot_s fail !!!\")\n",
    "        print(\"suite_s 参数必须是 list 类型\")\n",
    "        print('----------------------------\\n')\n",
    "        return\n",
    "    \n",
    "    li_hypos = []\n",
    "    li_proba = []\n",
    "    for suite in suite_s:\n",
    "        hypos, proba = suite.getHypos_Probability()\n",
    "        li_hypos.append(hypos)\n",
    "        li_proba.append(proba)\n",
    "    \n",
    "    if legend_s is None:\n",
    "        legend_s = []\n",
    "        for suite in suite_s:\n",
    "            if suite.name is '':\n",
    "                legend_s.append('unknow')\n",
    "            else:\n",
    "                legend_s.append(suite.name)\n",
    "    \n",
    "    color_s     = [ 'cyan','red','green','black','blue','magenta']  # 颜色\n",
    "    linestyle_s = [ '-',  # solid line style\n",
    "                    '--', # dashed line style\n",
    "                    '-.', # dash-dot line style\n",
    "                    ':' ]  # dotted line style\n",
    "\n",
    "    marker_s    = [ '.', ',', 'o','v','^', '<', '>','1','2','3','4','s','p','*']  # 标记\n",
    "    \n",
    "    figsize(10, 7)\n",
    "    \n",
    "    \n",
    "    fig, ax1 = plt.subplots()\n",
    "\n",
    "\n",
    "    for i,hypo in enumerate(li_hypos):\n",
    "        proba = li_proba[i]\n",
    "        ax1.plot( hypo, proba, color=color_s[i%4],linestyle=linestyle_s[i%14] )   # 概率 曲线\n",
    "    \n",
    "    ax1.set_xlabel(xlabel)  # x轴\n",
    "    ax1.set_ylabel(ylabel)  # y轴\n",
    "    \n",
    "    \n",
    "    ax1.legend(legend_s)\n",
    "    if name is not None:\n",
    "        ax1.set_title(name)\n",
    "    \n",
    "    fig.tight_layout()  # 保证图像被完整显示"
   ]
  },
  {
   "cell_type": "code",
   "execution_count": 53,
   "metadata": {},
   "outputs": [
    {
     "name": "stdout",
     "output_type": "stream",
     "text": [
      "0.02097652612954468\n",
      "MLE 56\n",
      "Mean 55.952380952380956\n",
      "Median 56\n",
      "5th %ile 51\n",
      "95th %ile 61\n",
      "CI (51, 61)\n",
      "\n",
      "----------------------------\n",
      "Plot_s fail !!!\n",
      "suite_s 参数必须是 list 类型\n",
      "----------------------------\n",
      "\n"
     ]
    },
    {
     "data": {
      "image/png": "[encoded data removed]",
      "text/plain": [
       "<Figure size 720x504 with 1 Axes>"
      ]
     },
     "metadata": {
      "needs_background": "light"
     },
     "output_type": "display_data"
    },
    {
     "data": {
      "image/png": "[encoded data removed]",
      "text/plain": [
       "<Figure size 720x504 with 1 Axes>"
      ]
     },
     "metadata": {
      "needs_background": "light"
     },
     "output_type": "display_data"
    }
   ],
   "source": [
    "# Makes a Suite with a uniform prior.\n",
    "suite_1 = Euro(range(0, 101))  # 先验为均匀分布\n",
    "\n",
    "suite_1.name = 'uniform'\n",
    "\n",
    "\n",
    "RunUpdate(suite_1)\n",
    "Summarize(suite_1)\n",
    "\n",
    "suite_2 = Euro(range(0,10))\n",
    "suite_2.name = 'ddrm'\n",
    "\n",
    "Plot1(suite_1)\n",
    "\n",
    "Plot_s([suite_1,suite_2], name=\"test\")\n",
    "\n",
    "Plot_s(suite_1, name=\"k\")"
   ]
  },
  {
   "cell_type": "code",
   "execution_count": null,
   "metadata": {},
   "outputs": [],
   "source": []
  }
 ],
 "metadata": {
  "kernelspec": {
   "display_name": "Python 3",
   "language": "python",
   "name": "python3"
  },
  "language_info": {
   "codemirror_mode": {
    "name": "ipython",
    "version": 3
   },
   "file_extension": ".py",
   "mimetype": "text/x-python",
   "name": "python",
   "nbconvert_exporter": "python",
   "pygments_lexer": "ipython3",
   "version": "3.7.4"
  },
  "toc": {
   "base_numbering": 1,
   "nav_menu": {},
   "number_sections": true,
   "sideBar": true,
   "skip_h1_title": false,
   "title_cell": "Table of Contents",
   "title_sidebar": "Contents",
   "toc_cell": false,
   "toc_position": {},
   "toc_section_display": true,
   "toc_window_display": false
  }
 },
 "nbformat": 4,
 "nbformat_minor": 2
}
