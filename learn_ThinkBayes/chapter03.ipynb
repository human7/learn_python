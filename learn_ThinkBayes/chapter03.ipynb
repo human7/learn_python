{
 "cells": [
  {
   "cell_type": "code",
   "execution_count": 32,
   "metadata": {},
   "outputs": [],
   "source": [
    "%matplotlib inline\n",
    "from IPython.core.pylabtools import figsize\n",
    "import matplotlib.pyplot as plt"
   ]
  },
  {
   "cell_type": "markdown",
   "metadata": {},
   "source": [
    "## 骰子问题\n",
    "\n",
    "假设我有一盒骰子，里面有 4 面的骰子、 6 面的骰子、 8 面的骰子、 12 面的骰子和 20面的骰子各 1 个。\n",
    "\n",
    "假如我随机从盒子中选一个骰子，转动它得到了 6 。那么每一个骰子被选中的概率是多少？"
   ]
  },
  {
   "cell_type": "code",
   "execution_count": 33,
   "metadata": {},
   "outputs": [],
   "source": [
    "from codeLib.thinkbayes import Suite"
   ]
  },
  {
   "cell_type": "code",
   "execution_count": 34,
   "metadata": {},
   "outputs": [],
   "source": [
    "class Dice(Suite):\n",
    "    \"\"\"Represents hypotheses about which die was rolled.\"\"\"\n",
    "\n",
    "    def Likelihood(self, data, hypo):\n",
    "        \"\"\"Computes the likelihood of the data under the hypothesis.\n",
    "\n",
    "        hypo: integer number of sides on the die\n",
    "        data: integer die roll\n",
    "        \"\"\"\n",
    "        if hypo < data:\n",
    "            return 0\n",
    "        else:\n",
    "            return 1.0/hypo"
   ]
  },
  {
   "cell_type": "code",
   "execution_count": 35,
   "metadata": {},
   "outputs": [
    {
     "name": "stdout",
     "output_type": "stream",
     "text": [
      "各种骰子的先验概率:\n",
      "[ 4 ] : 20.000000 %\n",
      "[ 6 ] : 20.000000 %\n",
      "[ 8 ] : 20.000000 %\n",
      "[ 12 ] : 20.000000 %\n",
      "[ 20 ] : 20.000000 %\n",
      "\n",
      "选了一个骰子，转动得到6，后验概率:\n",
      "[ 4 ] : 0.000000 %\n",
      "[ 6 ] : 39.215686 %\n",
      "[ 8 ] : 29.411765 %\n",
      "[ 12 ] : 19.607843 %\n",
      "[ 20 ] : 11.764706 %\n",
      "\n",
      "继续转动依次得到[4, 8, 7, 7, 2]，则后验概率:\n",
      "[ 4 ] : 0.000000 %\n",
      "[ 6 ] : 0.000000 %\n",
      "[ 8 ] : 91.584527 %\n",
      "[ 12 ] : 8.040343 %\n",
      "[ 20 ] : 0.375130 %\n"
     ]
    }
   ],
   "source": [
    "# 主函数\n",
    "\n",
    "suite = Dice([4, 6, 8, 12, 20])\n",
    "\n",
    "print('各种骰子的先验概率:')\n",
    "suite.Print()\n",
    "\n",
    "suite.Update(6)  # 转动得到6\n",
    "print('\\n选了一个骰子，转动得到6，后验概率:')\n",
    "suite.Print()\n",
    "\n",
    "print('\\n继续转动依次得到[4, 8, 7, 7, 2]，则后验概率:')\n",
    "for roll in [4, 8, 7, 7, 2]:\n",
    "    suite.Update(roll)\n",
    "suite.Print()"
   ]
  },
  {
   "cell_type": "markdown",
   "metadata": {},
   "source": [
    "## 火车头问题\n",
    "\n"
   ]
  },
  {
   "cell_type": "code",
   "execution_count": 36,
   "metadata": {},
   "outputs": [],
   "source": [
    "class Train(Dice):\n",
    "    \"\"\"Represents hypotheses about how many trains the company has.\n",
    "\n",
    "    The likelihood function for the train problem is the same as\n",
    "    for the Dice problem.\n",
    "    \"\"\"\n",
    "    \n",
    "    def getHypos_Probability(self):\n",
    "        \"\"\"\n",
    "        author       : Human7\n",
    "        description  : 将假设和对应的概率转换成列表，为了好画图\n",
    "        \"\"\"\n",
    "        li_Hypos = []  # 火车数量\n",
    "        li_Pro   = []  # 先验概率\n",
    "        for hypo, pro in suite.Items():\n",
    "            li_Hypos.append(hypo)\n",
    "            li_Pro.append(pro)\n",
    "        \n",
    "        return li_Hypos,li_Pro\n",
    "    \n",
    "    \n",
    "    def findMaxPro(self):\n",
    "        \"\"\"\n",
    "        author      : Human7\n",
    "        description : 寻找概率最大的火车头数量，及其概率\n",
    "        \"\"\"\n",
    "        proMax = 0\n",
    "        keyMax = None\n",
    "        for key, pro in self.Items():\n",
    "            if pro > proMax:\n",
    "                proMax = pro\n",
    "                keyMax = key\n",
    "        \n",
    "        return keyMax, proMax\n",
    "    \n",
    "        "
   ]
  },
  {
   "cell_type": "code",
   "execution_count": 37,
   "metadata": {},
   "outputs": [
    {
     "name": "stdout",
     "output_type": "stream",
     "text": [
      "后验概率的平均值:  333.41989326371095\n",
      "火车头数量是: 60 的时候概率最大, 概率为：0.590542%\n"
     ]
    },
    {
     "data": {
      "image/png": "[encoded data removed]",
      "text/plain": [
       "<Figure size 720x504 with 1 Axes>"
      ]
     },
     "metadata": {
      "needs_background": "light"
     },
     "output_type": "display_data"
    }
   ],
   "source": [
    "# 主函数\n",
    "\n",
    "hypos = range(1, 1001)\n",
    "suite = Train(hypos)\n",
    "\n",
    "priorTrainNum = []  # 火车数量\n",
    "priorPro      = []  # 先验概率\n",
    "postTrainNum  = []  # 火车数量\n",
    "postPro       = []  # 后验概率 Posterior\n",
    "\n",
    "priorTrainNum, priorPro = suite.getHypos_Probability()  # 获得先验假设及其概率\n",
    "    \n",
    "suite.Update(60)\n",
    "\n",
    "postTrainNum, postPro = suite.getHypos_Probability()  # 获得后验假设及其概率\n",
    "\n",
    "print('后验概率的平均值: ',suite.Mean())\n",
    "\n",
    "keyMax, proMax = suite.findMaxPro()\n",
    "print('火车头数量是:',keyMax, '的时候概率最大, 概率为：%f%%'%(proMax*100) )\n",
    "\n",
    "\n",
    "    \n",
    "\n",
    "# ==========================\n",
    "#          画图\n",
    "# ==========================\n",
    "import numpy as np\n",
    "figsize(10, 7)\n",
    "\n",
    "fig, ax1 = plt.subplots()\n",
    "\n",
    "color = 'red'\n",
    "\n",
    "ax1.plot(priorTrainNum, priorPro, color=color)  # 先验概率 曲线\n",
    "ax1.plot(postTrainNum, postPro, color='aqua')   # 后验概率 曲线\n",
    "\n",
    "ax1.set_xlabel('Number of trains')  # x轴\n",
    "ax1.set_ylabel('Probability')       # 先验概率的ax\n",
    "\n",
    "\n",
    "ax1.legend([\"Prior\",\"Posteriori\"])\n",
    "\n",
    "fig.tight_layout()  # 保证图像被完整显示\n",
    "\n"
   ]
  },
  {
   "cell_type": "markdown",
   "metadata": {},
   "source": [
    "## 怎样看待先验概率？\n",
    "\n",
    "对比发现对先验概率很敏感，分别对火车头数量N=500,1000,2000进行模拟，发现对于后验概率影响很大。这个时候如果有更多的数据（观察数据），后验概率基于相同。\n",
    "\n",
    "有了更多的数据后，基于不同的先验概率，后验分布趋于收敛。例如，假设除了列车 60 我们也看到列车 30 和 90。我们可以这样更新分布。"
   ]
  },
  {
   "cell_type": "code",
   "execution_count": 38,
   "metadata": {},
   "outputs": [
    {
     "name": "stdout",
     "output_type": "stream",
     "text": [
      "当观察数据为 ： [30, 60, 90] ，后验数据趋于一致\n",
      "---------------------------------------------------\n",
      "火车头N假设为 500 时，后验平均值为: 151.849588\n",
      "火车头N假设为 1000 时，后验平均值为: 164.305586\n",
      "火车头N假设为 2000 时，后验平均值为: 171.338181\n"
     ]
    },
    {
     "data": {
      "image/png": "[encoded data removed]",
      "text/plain": [
       "<Figure size 720x504 with 1 Axes>"
      ]
     },
     "metadata": {
      "needs_background": "light"
     },
     "output_type": "display_data"
    }
   ],
   "source": [
    "dataset = [30, 60, 90]        # 观察值\n",
    "highNum = [500, 1000, 2000]  # 火车数量，影响先验概率\n",
    "\n",
    "\n",
    "li_suite = []\n",
    "li_means = []\n",
    "li_hypos = []\n",
    "li_proba = []\n",
    "\n",
    "for high in highNum:\n",
    "    # 每一种火车头数量 进行一次计算\n",
    "    hypos = []\n",
    "    proba = []\n",
    "    hypos = range(1, high+1)\n",
    "    suite = Train(hypos)\n",
    "    for data in dataset:\n",
    "        suite.Update(data)  # 根据观察数据，得到后验概率\n",
    "    li_suite.append(suite)\n",
    "    \n",
    "    hypos, proba = suite.getHypos_Probability()\n",
    "    li_hypos.append(hypos)\n",
    "    li_proba.append(proba)\n",
    "    \n",
    "    # 计算每一种火车头数量的后验平均值\n",
    "    li_means.append(suite.Mean())\n",
    "    \n",
    "\n",
    "# -------------------\n",
    "# 输出\n",
    "\n",
    "print(\"当观察数据为 ：\",str(dataset), \"，后验数据趋于一致\")\n",
    "print('---------------------------------------------------')\n",
    "li_legend = []  # 画图的图例\n",
    "for i,mean in enumerate(li_means):\n",
    "    strShow = \"火车头N假设为 %d 时，后验平均值为: %f\"%(highNum[i], mean)\n",
    "    print(strShow)\n",
    "    strShow = \"N = %d\"%(highNum[i])\n",
    "    li_legend.append(strShow)\n",
    "\n",
    "# -------------------\n",
    "# 画图\n",
    "figsize(10, 7)\n",
    "\n",
    "color_s     = [ 'cyan','red','green','black','blue','magenta']  # 颜色\n",
    "linestyle_s = [ '-',  # solid line style\n",
    "                '--', # dashed line style\n",
    "                '-.', # dash-dot line style\n",
    "                ':' ]  # dotted line style\n",
    "\n",
    "marker_s    = [ '.', ',', 'o','v','^', '<', '>','1','2','3','4','s','p','*']  # 标记\n",
    "\n",
    "fig, ax1 = plt.subplots()\n",
    "\n",
    "\n",
    "for i,hypo in enumerate(li_hypos):\n",
    "    proba = li_proba[i]\n",
    "    ax1.plot( hypo, proba, color=color_s[i],linestyle=linestyle_s[i] )   # 后验概率 曲线\n",
    "\n",
    "    \n",
    "ax1.set_xlabel('Number of trains')  # x轴\n",
    "ax1.set_ylabel('Probability')       # 概率的ax\n",
    "\n",
    "\n",
    "\n",
    "ax1.legend(li_legend)\n",
    "\n",
    "fig.tight_layout()  # 保证图像被完整显示\n",
    "\n"
   ]
  },
  {
   "cell_type": "markdown",
   "metadata": {},
   "source": [
    "## 其他先验概率"
   ]
  },
  {
   "cell_type": "code",
   "execution_count": 39,
   "metadata": {},
   "outputs": [],
   "source": [
    "from codeLib.thinkbayes import Pmf\n",
    "class Train2(Train):\n",
    "    \"\"\"Represents hypotheses about how many trains the company has.\"\"\"\n",
    "    # 本来要继承Dice类，不过要用到Train的函数\n",
    "    \n",
    "    def __init__(self, hypos, alpha=1.0):\n",
    "        \"\"\"Initializes the hypotheses with a power law distribution.\n",
    "\n",
    "        hypos: sequence of hypotheses\n",
    "        alpha: parameter of the power law prior\n",
    "        \"\"\"\n",
    "        Pmf.__init__(self)\n",
    "        for hypo in hypos:\n",
    "            self.Set(hypo, hypo**(-alpha))\n",
    "        self.Normalize()\n"
   ]
  },
  {
   "cell_type": "markdown",
   "metadata": {},
   "source": [
    "### 对比不同上限下使用幂律分布作为先验概率\n",
    "\n",
    "事实上，考虑一个任意大的上界，平均值都收敛于 134。所以基于幂律分布的先验概率是比较现实的，因为它基于公司规模的一般情况，并且在实际中表现得更好。"
   ]
  },
  {
   "cell_type": "code",
   "execution_count": 40,
   "metadata": {},
   "outputs": [
    {
     "name": "stdout",
     "output_type": "stream",
     "text": [
      "使用幂律分布的先验进行试验\n",
      "当观察数据为 ： [30, 60, 90] ，后验数据趋于一致\n",
      "---------------------------------------------------\n",
      "火车头N假设为 500 时，后验平均值为: 130.708470\n",
      "火车头N假设为 1000 时，后验平均值为: 133.275231\n",
      "火车头N假设为 2000 时，后验平均值为: 133.997463\n"
     ]
    },
    {
     "data": {
      "image/png": "[encoded data removed]",
      "text/plain": [
       "<Figure size 720x504 with 1 Axes>"
      ]
     },
     "metadata": {
      "needs_background": "light"
     },
     "output_type": "display_data"
    }
   ],
   "source": [
    "dataset = [30, 60, 90]        # 观察值\n",
    "highNum = [500, 1000, 2000]  # 火车数量，影响先验概率\n",
    "\n",
    "\n",
    "li_suite = []\n",
    "li_means = []\n",
    "li_hypos = []\n",
    "li_proba = []\n",
    "\n",
    "for high in highNum:\n",
    "    # 每一种火车头数量 进行一次计算\n",
    "    hypos = []\n",
    "    proba = []\n",
    "    hypos = range(1, high+1)\n",
    "    suite = Train2(hypos)\n",
    "    for data in dataset:\n",
    "        suite.Update(data)  # 根据观察数据，得到后验概率\n",
    "    li_suite.append(suite)\n",
    "    \n",
    "    hypos, proba = suite.getHypos_Probability()\n",
    "    li_hypos.append(hypos)\n",
    "    li_proba.append(proba)\n",
    "    \n",
    "    # 计算每一种火车头数量的后验平均值\n",
    "    li_means.append(suite.Mean())\n",
    "    \n",
    "\n",
    "# -------------------\n",
    "# 输出\n",
    "\n",
    "print('使用幂律分布的先验进行试验')\n",
    "print(\"当观察数据为 ：\",str(dataset), \"，后验数据趋于一致\")\n",
    "print('---------------------------------------------------')\n",
    "li_legend = []  # 画图的图例\n",
    "for i,mean in enumerate(li_means):\n",
    "    strShow = \"火车头N假设为 %d 时，后验平均值为: %f\"%(highNum[i], mean)\n",
    "    print(strShow)\n",
    "    strShow = \"N = %d\"%(highNum[i])\n",
    "    li_legend.append(strShow)\n",
    "\n",
    "# -------------------\n",
    "# 画图\n",
    "figsize(10, 7)\n",
    "\n",
    "\n",
    "\n",
    "fig, ax1 = plt.subplots()\n",
    "\n",
    "\n",
    "for i,hypo in enumerate(li_hypos):\n",
    "    proba = li_proba[i]\n",
    "    ax1.plot( hypo, proba, color=color_s[i],linestyle=linestyle_s[i] )   # 后验概率 曲线\n",
    "\n",
    "\n",
    "ax1.set_title('the hypotheses with a power law distribution')  # 使用幂律分布作为先验概率\n",
    "ax1.set_xlabel('Number of trains')  # x轴\n",
    "ax1.set_ylabel('Probability')       # 概率的ax\n",
    "\n",
    "\n",
    "\n",
    "ax1.legend(li_legend)\n",
    "\n",
    "fig.tight_layout()  # 保证图像被完整显示\n"
   ]
  },
  {
   "cell_type": "markdown",
   "metadata": {},
   "source": [
    "### 对比使用幂律和基于均匀随机分布的先验概率"
   ]
  },
  {
   "cell_type": "code",
   "execution_count": 41,
   "metadata": {},
   "outputs": [
    {
     "name": "stdout",
     "output_type": "stream",
     "text": [
      "观察值只有数字为60的火车头\n",
      "均匀随机分布作为先验概率，后验概率的平均值为: 333.419893\n",
      "幂律分布作为先验概率，后验概率的平均值为: 178.547353\n"
     ]
    },
    {
     "data": {
      "image/png": "[encoded data removed]",
      "text/plain": [
       "<Figure size 720x504 with 1 Axes>"
      ]
     },
     "metadata": {
      "needs_background": "light"
     },
     "output_type": "display_data"
    }
   ],
   "source": [
    "# dataset = [30, 60, 90]        # 观察值\n",
    "dataset = [60]        # 观察值\n",
    "high = 1000  # 火车数量，影响先验概率\n",
    "\n",
    "li_Class = [Train, Train2]  # 两种不同先验分布，影响先验概率\n",
    "#li_suite = []\n",
    "li_means = []\n",
    "li_hypos = []\n",
    "li_proba = []\n",
    "\n",
    "for tClass in li_Class:\n",
    "    # 每一种火车头数量 进行一次计算\n",
    "    hypos = []\n",
    "    proba = []\n",
    "    hypos = range(1, high+1)    \n",
    "    suite = tClass(hypos)\n",
    "    for data in dataset:\n",
    "        suite.Update(data)  # 根据观察数据，得到后验概率\n",
    "    #li_suite.append(suite)\n",
    "    \n",
    "    hypos, proba = suite.getHypos_Probability()\n",
    "    li_hypos.append(hypos)\n",
    "    li_proba.append(proba)\n",
    "    \n",
    "    # 计算每一种先验概率下火车头的后验平均值\n",
    "    li_means.append(suite.Mean())\n",
    "    \n",
    "\n",
    "# -------------------\n",
    "# 输出\n",
    "\n",
    "li_strTmp = ['均匀随机分布作为先验概率，后验概率的平均值为: %f','幂律分布作为先验概率，后验概率的平均值为: %f']\n",
    "\n",
    "print('观察值只有数字为60的火车头')\n",
    "for i,mean in enumerate(li_means):\n",
    "    strShow = (li_strTmp[i])%(mean)\n",
    "    print(strShow)\n",
    "    \n",
    "\n",
    "# -------------------\n",
    "# 画图\n",
    "figsize(10, 7)\n",
    "\n",
    "\n",
    "\n",
    "fig, ax1 = plt.subplots()\n",
    "\n",
    "\n",
    "\n",
    "for i,hypo in enumerate(li_hypos):\n",
    "    proba = li_proba[i]\n",
    "    ax1.plot( hypo, proba, color=color_s[i],linestyle=linestyle_s[i] )   # 后验概率 曲线\n",
    "\n",
    "\n",
    "ax1.set_title('two different priors')  # 使用幂律分布作为先验概率\n",
    "ax1.set_xlabel('Number of trains')  # x轴\n",
    "ax1.set_ylabel('Probability')       # 概率的ax\n",
    "li_legend = ['uniform', 'power law']  # 画图的图例\n",
    "\n",
    "\n",
    "ax1.legend(li_legend)\n",
    "\n",
    "fig.tight_layout()  # 保证图像被完整显示"
   ]
  },
  {
   "cell_type": "markdown",
   "metadata": {},
   "source": [
    "## 置信区间\n",
    "\n",
    "一旦计算出的后验分布，通过单点估计或区间对后验分布进行总结通常是有用的。\n",
    "\n",
    "对于点估计，通常使用平均数、中位数或最大似然值。\n",
    "\n",
    "对于区间，我们通常给出两个计算值，使得未知量有 90%的可能落入这两个值之间（或者任何其他的概率值）。这些值定义了一个置信区间。\n",
    "\n",
    "计算置信区间的一个简单方法是在后验概率分布中累加其中的概率，并记录对应于概率 5%和 95%的值。也就是说，第 5 和第 95 百分位"
   ]
  },
  {
   "cell_type": "code",
   "execution_count": 42,
   "metadata": {},
   "outputs": [
    {
     "data": {
      "text/plain": [
       "[<__main__.Train2 at 0x8d04608>,\n",
       " <__main__.Train2 at 0x93a2848>,\n",
       " <__main__.Train2 at 0x9489d08>]"
      ]
     },
     "execution_count": 42,
     "metadata": {},
     "output_type": "execute_result"
    }
   ],
   "source": [
    "# 4.1 对比不同上限下使用幂律分布作为先验概率\n",
    "# 对应的suite\n",
    "li_suite"
   ]
  },
  {
   "cell_type": "code",
   "execution_count": 43,
   "metadata": {},
   "outputs": [],
   "source": [
    "#from codeLib.thinkbayes import Percentile\n",
    "# 本行在 codeLib的thinkbayes中，这里直接写出来了\n",
    "def Percentile(pmf, percentage):\n",
    "    \"\"\"Computes a percentile of a given Pmf.\n",
    "    percentage: float 0-100\n",
    "    \"\"\"\n",
    "    p = percentage / 100.0\n",
    "    total = 0\n",
    "    for val, prob in pmf.Items():\n",
    "        total += prob\n",
    "        if total >= p:\n",
    "            return val"
   ]
  },
  {
   "cell_type": "code",
   "execution_count": 50,
   "metadata": {},
   "outputs": [
    {
     "name": "stdout",
     "output_type": "stream",
     "text": [
      "使用幂律分布的先验进行试验\n",
      "当观察数据为 ： [30, 60, 90]\n",
      "火车头N假设为 500 时，置信区间为: (91, 235)\n",
      "火车头N假设为 1000 时，置信区间为: (91, 242)\n",
      "火车头N假设为 2000 时，置信区间为: (91, 243)\n"
     ]
    }
   ],
   "source": [
    "highNum = [500, 1000, 2000]  # 火车数量，影响先验概率\n",
    "dataset = [30, 60, 90]        # 观察值\n",
    "print('使用幂律分布的先验进行试验')\n",
    "print(\"当观察数据为 ：\",str(dataset))\n",
    "\n",
    "for i,suite in enumerate(li_suite):    \n",
    "    interval = Percentile(suite, 5), Percentile(suite, 95)\n",
    "    strShow = \"火车头N假设为 %d 时，置信区间为: %s\"%(highNum[i], str(interval))\n",
    "    print(strShow)"
   ]
  },
  {
   "cell_type": "markdown",
   "metadata": {},
   "source": [
    "---\n",
    "\n",
    "在前面的示例（看到了三个火车，且呈幂律分布的先验概率的火车头问题）中 90%置信区间为（91,243）。如此大的范围其实确切的表明，（尽管平均值收敛了）我们仍然相当不确定究竟有多少火车头存在"
   ]
  },
  {
   "cell_type": "markdown",
   "metadata": {},
   "source": [
    "## 累计分布函数\n",
    "\n",
    "在上一节中，我们通过数值迭代计算出百分比和 Pmf 的概率。如果我们需要计算多个百分位数，更有效方法是使用累积分布函数，或 Cdf。\n",
    "\n",
    "由于包含有某个分布的相同的信息，在这个意义上 Cdf 和 Pmf 是等价的，并可以随时从一个转换到另一个。 Cdf 的优点是可以更有效地计算百分位数。\n",
    "\n",
    "\n",
    "thinkbayes 有一个表示累积分布函数的 Cdf 类。 Pmf 提供了一种方法生成相应的 Cdf：\n",
    "\n",
    "```python\n",
    "cdf = suite.MakeCdf()\n",
    "```\n",
    "\n",
    "Cdf 提供了一个名为 Percentile 的函数\n",
    "```python\n",
    "interval = cdf.Percentile(5), cdf.Percentile(95)\n",
    "```\n",
    "\n",
    "将 Pmf 转换为 Cdf 需要正比于值数量 len(pmf)的运算时间。 Cdf 将值和概率存储在有序列表里（list）， 所以查询某个概率得到相应的值需要“对数时间（log time）”：即，时间和值的数量的对数成正比。查询一个值获得对应的概率也是对数时间，所以 Cdf 对于很多计算来说都是有效的。\n",
    "\n",
    "\n",
    "其实suite.MakeCdf()调用的是下面的两个全局函数，做的就是累加工作\n",
    "```python\n",
    "from codeLib.thinkbayes import MakeCdfFromPmf\n",
    "from codeLib.thinkbayes import MakeCdfFromItems\n",
    "```"
   ]
  },
  {
   "cell_type": "markdown",
   "metadata": {},
   "source": [
    "## 德军坦克问题"
   ]
  },
  {
   "cell_type": "code",
   "execution_count": null,
   "metadata": {},
   "outputs": [],
   "source": []
  }
 ],
 "metadata": {
  "kernelspec": {
   "display_name": "Python 3",
   "language": "python",
   "name": "python3"
  },
  "language_info": {
   "codemirror_mode": {
    "name": "ipython",
    "version": 3
   },
   "file_extension": ".py",
   "mimetype": "text/x-python",
   "name": "python",
   "nbconvert_exporter": "python",
   "pygments_lexer": "ipython3",
   "version": "3.7.4"
  },
  "toc": {
   "base_numbering": 1,
   "nav_menu": {},
   "number_sections": true,
   "sideBar": true,
   "skip_h1_title": false,
   "title_cell": "Table of Contents",
   "title_sidebar": "Contents",
   "toc_cell": false,
   "toc_position": {
    "height": "calc(100% - 180px)",
    "left": "10px",
    "top": "150px",
    "width": "369.6px"
   },
   "toc_section_display": true,
   "toc_window_display": true
  }
 },
 "nbformat": 4,
 "nbformat_minor": 2
}
