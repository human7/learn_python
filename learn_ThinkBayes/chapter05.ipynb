{
 "cells": [
  {
   "cell_type": "markdown",
   "metadata": {},
   "source": [
    "# 胜率"
   ]
  },
  {
   "cell_type": "code",
   "execution_count": 3,
   "metadata": {},
   "outputs": [],
   "source": [
    "%matplotlib inline\n",
    "from IPython.core.pylabtools import figsize\n",
    "import matplotlib.pyplot as plt\n",
    "\n",
    "from codeLib.thinkbayes import Suite\n",
    "from codeLib import thinkbayes"
   ]
  },
  {
   "cell_type": "code",
   "execution_count": 7,
   "metadata": {},
   "outputs": [],
   "source": [
    "def Odds(p):\n",
    "    \"\"\"Computes odds for a given probability.\n",
    "\n",
    "    Example: p=0.75 means 75 for and 25 against, or 3:1 odds in favor.\n",
    "\n",
    "    Note: when p=1, the formula for odds divides by zero, which is\n",
    "    normally undefined.  But I think it is reasonable to define Odds(1)\n",
    "    to be infinity, so that's what this function does.\n",
    "\n",
    "    p: float 0-1\n",
    "\n",
    "    Returns: float odds\n",
    "    \"\"\"\n",
    "    if p == 1:\n",
    "        return float('inf')\n",
    "    return p / (1 - p)"
   ]
  },
  {
   "cell_type": "code",
   "execution_count": 8,
   "metadata": {},
   "outputs": [],
   "source": [
    "def Probability(o):\n",
    "    \"\"\"Computes the probability corresponding to given odds.\n",
    "\n",
    "    Example: o=2 means 2:1 odds in favor, or 2/3 probability\n",
    "\n",
    "    o: float odds, strictly positive\n",
    "\n",
    "    Returns: float probability\n",
    "    \"\"\"\n",
    "    return o / (o + 1)"
   ]
  },
  {
   "cell_type": "code",
   "execution_count": 9,
   "metadata": {},
   "outputs": [],
   "source": [
    "def Probability2(yes, no):\n",
    "    \"\"\"Computes the probability corresponding to given odds.\n",
    "\n",
    "    Example: yes=2, no=1 means 2:1 odds in favor, or 2/3 probability.\n",
    "    \n",
    "    yes, no: int or float odds in favor\n",
    "    \"\"\"\n",
    "    return float(yes) / (yes + no)"
   ]
  },
  {
   "cell_type": "markdown",
   "metadata": {},
   "source": [
    "# 贝叶斯定理的胜率形式"
   ]
  },
  {
   "cell_type": "code",
   "execution_count": null,
   "metadata": {},
   "outputs": [],
   "source": []
  },
  {
   "cell_type": "markdown",
   "metadata": {},
   "source": [
    "# 奥利弗的血迹"
   ]
  },
  {
   "cell_type": "code",
   "execution_count": null,
   "metadata": {},
   "outputs": [],
   "source": []
  }
 ],
 "metadata": {
  "kernelspec": {
   "display_name": "Python 3",
   "language": "python",
   "name": "python3"
  },
  "language_info": {
   "codemirror_mode": {
    "name": "ipython",
    "version": 3
   },
   "file_extension": ".py",
   "mimetype": "text/x-python",
   "name": "python",
   "nbconvert_exporter": "python",
   "pygments_lexer": "ipython3",
   "version": "3.7.4"
  },
  "toc": {
   "base_numbering": 1,
   "nav_menu": {},
   "number_sections": true,
   "sideBar": true,
   "skip_h1_title": false,
   "title_cell": "Table of Contents",
   "title_sidebar": "Contents",
   "toc_cell": false,
   "toc_position": {
    "height": "calc(100% - 180px)",
    "left": "10px",
    "top": "150px",
    "width": "384px"
   },
   "toc_section_display": true,
   "toc_window_display": true
  }
 },
 "nbformat": 4,
 "nbformat_minor": 2
}
